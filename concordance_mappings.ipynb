{
 "cells": [
  {
   "cell_type": "code",
   "execution_count": 32,
   "metadata": {},
   "outputs": [],
   "source": [
    "import numpy as np\n",
    "import pandas as pd\n",
    "import warnings\n",
    "import os\n",
    "warnings.simplefilter(action='ignore', category=pd.errors.PerformanceWarning)"
   ]
  },
  {
   "cell_type": "code",
   "execution_count": 33,
   "metadata": {},
   "outputs": [],
   "source": [
    "def _get_cents_ratio(f1, f2):\n",
    "    return np.log2(f1 / f2) * 1200\n",
    "\n",
    "def _get_cents_edo_step(edo):\n",
    "    f2 = 1\n",
    "    f1 = 2 ** (1/edo)\n",
    "    return round(_get_cents_ratio(f1, f2), 10)\n",
    "\n",
    "def _express_ratio(row):\n",
    "    return f\"{int(row['f1'])} : {int(row['f2'])}\"\n",
    "\n",
    "def _get_cents_row(row):\n",
    "    return _get_cents_ratio(row['f1'], row['f2'])"
   ]
  },
  {
   "cell_type": "code",
   "execution_count": 34,
   "metadata": {},
   "outputs": [],
   "source": [
    "NUM_HARMONICS = 256\n",
    "harmonics = range(1, NUM_HARMONICS + 1)\n",
    "just_ratios_adj = pd.DataFrame(np.zeros((NUM_HARMONICS, NUM_HARMONICS)), columns=harmonics)\n",
    "just_ratios_adj.index = harmonics\n",
    "just_ratios_edge = just_ratios_adj.stack().reset_index().rename({'level_0': 'f1', 'level_1': 'f2', 0: 'cents'}, axis=1)\n",
    "just_ratios_edge = just_ratios_edge[just_ratios_edge['f1'] > just_ratios_edge['f2']]\n",
    "\n",
    "just_ratios_edge['ratio'] = just_ratios_edge.apply(_express_ratio, axis=1)\n",
    "just_ratios_edge['cents'] = just_ratios_edge.apply(_get_cents_row, axis=1)"
   ]
  },
  {
   "cell_type": "code",
   "execution_count": 35,
   "metadata": {},
   "outputs": [],
   "source": [
    "def closest_approx_to_edo(cents: float, edo: int):\n",
    "    # Returns (num steps, remainder):\n",
    "    edo_step_size = _get_cents_edo_step(edo)\n",
    "    num_steps_abs = cents / edo_step_size\n",
    "    num_steps_rounded = np.round(num_steps_abs)\n",
    "    offset_steps = round((num_steps_abs - num_steps_rounded), 5)\n",
    "\n",
    "    return (num_steps_rounded, offset_steps)\n",
    "\n",
    "def apply_aprox_to_edo(row, edo: int):\n",
    "    return closest_approx_to_edo(row['cents'], edo)"
   ]
  },
  {
   "cell_type": "code",
   "execution_count": 36,
   "metadata": {},
   "outputs": [],
   "source": [
    "ERROR_CENTS = 5\n",
    "\n",
    "def process_EDO(EDO):\n",
    "\n",
    "    concordance_shells_str = \"\"\n",
    "\n",
    "    just_ratios_edge[f'{EDO}_edo_approx'] = just_ratios_edge.apply(lambda x: apply_aprox_to_edo(x, EDO), axis=1)\n",
    "    just_ratios_edge[[f'{EDO}_edo_steps', f'{EDO}_edo_error_steps']] = just_ratios_edge[f'{EDO}_edo_approx'].to_list()\n",
    "    just_ratios_edge[f'{EDO}_edo_error_cents'] = just_ratios_edge[f'{EDO}_edo_error_steps'] * _get_cents_edo_step(EDO)\n",
    "    just_ratios_edge.drop([f'{EDO}_edo_approx'], axis=1, inplace=True)\n",
    "\n",
    "    # VERY ROUGH APPROXIMATION OF ENTROPY = sqrt(f1 * f2) / (error + 1)\n",
    "    just_ratios_edge['approx_dyadic_entropy'] = np.sqrt(just_ratios_edge['f1'] * just_ratios_edge['f2']) * (np.abs(just_ratios_edge[f'{EDO}_edo_error_cents']) + 1)\n",
    "    just_ratios_edge['intra_octave_steps'] = (just_ratios_edge[f'{EDO}_edo_steps'] % EDO).astype(int)\n",
    "    just_ratios_edge[f'intra_octave_cents_{EDO}edo'] = just_ratios_edge['intra_octave_steps'] * _get_cents_edo_step(EDO)\n",
    "    df = just_ratios_edge[np.abs(just_ratios_edge[f'{EDO}_edo_error_cents']) < ERROR_CENTS]\n",
    "\n",
    "    def find_primodal_concordance_shells(p):\n",
    "        # List of harmonics to check\n",
    "        f1s = []\n",
    "        for i in range(256):\n",
    "            cond1 = i > p\n",
    "            cond2 = (i < 2 * p) | (i % 2 == 1)\n",
    "            if cond1 * cond2:\n",
    "                f1s.append(i)\n",
    "        csdf = df[(df['f2'] == p) & (df['f1'].isin(f1s))].copy()\n",
    "        csdf['relative_error_change_cents'] = csdf[f'{EDO}_edo_error_cents'].diff()\n",
    "        return csdf.reset_index(drop=True)\n",
    "    \n",
    "    def format_concordance_df(csdf, p):\n",
    "        shell = [p] + csdf['f1'].tolist()\n",
    "        shellstr = f\"{shell}\".replace(\"[\", \"\").replace(\"]\", \"\").replace(\", \", \" : \")\n",
    "\n",
    "        details = \"None\"\n",
    "\n",
    "        if len(csdf) > 0:\n",
    "            details = csdf[['ratio', f'{EDO}_edo_error_cents', f'intra_octave_cents_{EDO}edo', 'intra_octave_steps', 'relative_error_change_cents']].to_string(index=False)\n",
    "\n",
    "        return f\"{EDO}-edo concordance shell around /{p}: {shellstr}\" + \"\\n\\n\" + \"Details\\n\" + f\"{details}\" + \"\\n\\n\"\n",
    "\n",
    "    primes = [2, 3, 5, 7, 11, 13, 17, 19, 23, 29, 31, 37, 41, 43, 47, 53, 59, 61, 67, 71, 73, 79, 83, 89, 97]\n",
    "    \n",
    "    for p in primes:\n",
    "        csdf = find_primodal_concordance_shells(p)\n",
    "        concordance_shells_str += format_concordance_df(csdf, p)\n",
    "\n",
    "    concordance_shells_str += \"----------------------------------\\n\"\n",
    "\n",
    "    return concordance_shells_str"
   ]
  },
  {
   "cell_type": "code",
   "execution_count": 37,
   "metadata": {},
   "outputs": [],
   "source": [
    "concordance_shells_all_edos = \"\"\n",
    "\n",
    "for EDO in range(5, 54):\n",
    "    concordance_shells_all_edos += process_EDO(EDO)"
   ]
  },
  {
   "cell_type": "code",
   "execution_count": 38,
   "metadata": {},
   "outputs": [],
   "source": [
    "output_path = os.path.expanduser(\"~/Downloads/concordance_shells_all_edos_5c.txt\")\n",
    "\n",
    "with open(output_path, \"w\") as text_file:\n",
    "    text_file.write(concordance_shells_all_edos)"
   ]
  }
 ],
 "metadata": {
  "kernelspec": {
   "display_name": "Python 3",
   "language": "python",
   "name": "python3"
  },
  "language_info": {
   "codemirror_mode": {
    "name": "ipython",
    "version": 3
   },
   "file_extension": ".py",
   "mimetype": "text/x-python",
   "name": "python",
   "nbconvert_exporter": "python",
   "pygments_lexer": "ipython3",
   "version": "3.11.4"
  },
  "orig_nbformat": 4
 },
 "nbformat": 4,
 "nbformat_minor": 2
}
